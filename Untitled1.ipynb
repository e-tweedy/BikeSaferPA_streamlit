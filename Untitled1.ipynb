{
 "cells": [
  {
   "cell_type": "code",
   "execution_count": 1,
   "id": "f75cd860-4496-4c30-9a85-03e56c140dd8",
   "metadata": {},
   "outputs": [],
   "source": [
    "import pickle\n",
    "with open('app_data.pickle','rb') as f:\n",
    "    app_data = pickle.load(f)"
   ]
  },
  {
   "cell_type": "code",
   "execution_count": 6,
   "id": "746f4e12-8d08-44fc-8d85-b1dbc4e39be7",
   "metadata": {},
   "outputs": [],
   "source": [
    "app_data[10]['TCD_TYPE']=['not_applicable',\n",
    " 'stop_sign',\n",
    " 'traffic_signal',\n",
    " 'flashing_traffic_signal',\n",
    " 'yield_sign']"
   ]
  },
  {
   "cell_type": "code",
   "execution_count": 8,
   "id": "0f62935b-4be0-414c-b5eb-e490c3c98458",
   "metadata": {},
   "outputs": [],
   "source": [
    "with open('app_data.pickle','wb') as f:\n",
    "    pickle.dump(app_data,f)"
   ]
  },
  {
   "cell_type": "code",
   "execution_count": null,
   "id": "392d2b08-e3c3-4e5f-8868-db50176469a0",
   "metadata": {},
   "outputs": [],
   "source": []
  }
 ],
 "metadata": {
  "kernelspec": {
   "display_name": "Python 3 (ipykernel)",
   "language": "python",
   "name": "python3"
  },
  "language_info": {
   "codemirror_mode": {
    "name": "ipython",
    "version": 3
   },
   "file_extension": ".py",
   "mimetype": "text/x-python",
   "name": "python",
   "nbconvert_exporter": "python",
   "pygments_lexer": "ipython3",
   "version": "3.10.12"
  }
 },
 "nbformat": 4,
 "nbformat_minor": 5
}
